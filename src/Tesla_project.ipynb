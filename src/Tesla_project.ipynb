{
 "cells": [
  {
   "cell_type": "code",
   "execution_count": 4,
   "metadata": {},
   "outputs": [],
   "source": [
    "import requests\n",
    "import time\n",
    "from bs4 import BeautifulSoup\n",
    "import pandas as pd\n",
    "\n",
    "# URL of the page to scrape\n",
    "url = \"https://api.scrapingdog.com/scrape?api_key=657d045fa8510675fba81d9e&url=https://www.macrotrends.net/stocks/charts/TSLA/tesla/revenue&dynamic=false\"\n"
   ]
  },
  {
   "cell_type": "code",
   "execution_count": 5,
   "metadata": {},
   "outputs": [
    {
     "name": "stdout",
     "output_type": "stream",
     "text": [
      "200\n"
     ]
    }
   ],
   "source": [
    "# Sending a request to the website\n",
    "response = requests.get(url)\n",
    "print(response.status_code)"
   ]
  },
  {
   "cell_type": "code",
   "execution_count": 6,
   "metadata": {},
   "outputs": [],
   "source": [
    "# Parse the HTML snippet\n",
    "soup = BeautifulSoup(response.text, 'html.parser')"
   ]
  },
  {
   "cell_type": "code",
   "execution_count": 7,
   "metadata": {},
   "outputs": [
    {
     "name": "stdout",
     "output_type": "stream",
     "text": [
      "Date: 2023-09-30, Revenue: $23,350\n",
      "Date: 2023-06-30, Revenue: $24,927\n",
      "Date: 2023-03-31, Revenue: $23,329\n",
      "Date: 2022-12-31, Revenue: $24,318\n",
      "Date: 2022-09-30, Revenue: $21,454\n",
      "Date: 2022-06-30, Revenue: $16,934\n",
      "Date: 2022-03-31, Revenue: $18,756\n",
      "Date: 2021-12-31, Revenue: $17,719\n",
      "Date: 2021-09-30, Revenue: $13,757\n",
      "Date: 2021-06-30, Revenue: $11,958\n",
      "Date: 2021-03-31, Revenue: $10,389\n",
      "Date: 2020-12-31, Revenue: $10,744\n",
      "Date: 2020-09-30, Revenue: $8,771\n",
      "Date: 2020-06-30, Revenue: $6,036\n",
      "Date: 2020-03-31, Revenue: $5,985\n",
      "Date: 2019-12-31, Revenue: $7,384\n",
      "Date: 2019-09-30, Revenue: $6,303\n",
      "Date: 2019-06-30, Revenue: $6,350\n",
      "Date: 2019-03-31, Revenue: $4,541\n",
      "Date: 2018-12-31, Revenue: $7,226\n",
      "Date: 2018-09-30, Revenue: $6,824\n",
      "Date: 2018-06-30, Revenue: $4,002\n",
      "Date: 2018-03-31, Revenue: $3,409\n",
      "Date: 2017-12-31, Revenue: $3,288\n",
      "Date: 2017-09-30, Revenue: $2,985\n",
      "Date: 2017-06-30, Revenue: $2,790\n",
      "Date: 2017-03-31, Revenue: $2,696\n",
      "Date: 2016-12-31, Revenue: $2,285\n",
      "Date: 2016-09-30, Revenue: $2,298\n",
      "Date: 2016-06-30, Revenue: $1,270\n",
      "Date: 2016-03-31, Revenue: $1,147\n",
      "Date: 2015-12-31, Revenue: $1,214\n",
      "Date: 2015-09-30, Revenue: $937\n",
      "Date: 2015-06-30, Revenue: $955\n",
      "Date: 2015-03-31, Revenue: $940\n",
      "Date: 2014-12-31, Revenue: $957\n",
      "Date: 2014-09-30, Revenue: $852\n",
      "Date: 2014-06-30, Revenue: $769\n",
      "Date: 2014-03-31, Revenue: $621\n",
      "Date: 2013-12-31, Revenue: $615\n",
      "Date: 2013-09-30, Revenue: $431\n",
      "Date: 2013-06-30, Revenue: $405\n",
      "Date: 2013-03-31, Revenue: $562\n",
      "Date: 2012-12-31, Revenue: $306\n",
      "Date: 2012-09-30, Revenue: $50\n",
      "Date: 2012-06-30, Revenue: $27\n",
      "Date: 2012-03-31, Revenue: $30\n",
      "Date: 2011-12-31, Revenue: $39\n",
      "Date: 2011-09-30, Revenue: $58\n",
      "Date: 2011-06-30, Revenue: $58\n",
      "Date: 2011-03-31, Revenue: $49\n",
      "Date: 2010-12-31, Revenue: $36\n",
      "Date: 2010-09-30, Revenue: $31\n",
      "Date: 2010-06-30, Revenue: $28\n",
      "Date: 2010-03-31, Revenue: $21\n",
      "Date: 2009-12-31, Revenue: \n",
      "Date: 2009-09-30, Revenue: $46\n",
      "Date: 2009-06-30, Revenue: $27\n"
     ]
    }
   ],
   "source": [
    "tables = soup.find_all('table', class_='historical_data_table')\n",
    "quarterly_revenue_table = None\n",
    "for table in tables:\n",
    "    if \"Quarterly Revenue\" in table.text:\n",
    "        quarterly_revenue_table = table\n",
    "        break\n",
    "\n",
    "# Check if the table was found\n",
    "if not quarterly_revenue_table:\n",
    "    print(\"Quarterly Revenue table not found\")\n",
    "else:\n",
    "    # Initialize a list to store the quarterly revenue data\n",
    "    quarterly_revenue_data = []\n",
    "\n",
    "    # Iterate over each row in the table body\n",
    "    for row in quarterly_revenue_table.tbody.find_all('tr'):\n",
    "        # Extract the date and revenue from each cell\n",
    "        date_td, revenue_td = row.find_all('td')\n",
    "        date = date_td.text.strip()\n",
    "        revenue = revenue_td.text.strip()\n",
    "\n",
    "        # Append the extracted data to the list\n",
    "        quarterly_revenue_data.append({'date': date, 'revenue': revenue})\n",
    "\n",
    "    # Display the extracted data\n",
    "    for data in quarterly_revenue_data:\n",
    "        print(f\"Date: {data['date']}, Revenue: {data['revenue']}\")\n"
   ]
  },
  {
   "cell_type": "code",
   "execution_count": 10,
   "metadata": {},
   "outputs": [
    {
     "name": "stdout",
     "output_type": "stream",
     "text": [
      "          date  revenue\n",
      "0   2023-09-30  $23,350\n",
      "1   2023-06-30  $24,927\n",
      "2   2023-03-31  $23,329\n",
      "3   2022-12-31  $24,318\n",
      "4   2022-09-30  $21,454\n",
      "5   2022-06-30  $16,934\n",
      "6   2022-03-31  $18,756\n",
      "7   2021-12-31  $17,719\n",
      "8   2021-09-30  $13,757\n",
      "9   2021-06-30  $11,958\n",
      "10  2021-03-31  $10,389\n",
      "11  2020-12-31  $10,744\n",
      "12  2020-09-30   $8,771\n",
      "13  2020-06-30   $6,036\n",
      "14  2020-03-31   $5,985\n",
      "15  2019-12-31   $7,384\n",
      "16  2019-09-30   $6,303\n",
      "17  2019-06-30   $6,350\n",
      "18  2019-03-31   $4,541\n",
      "19  2018-12-31   $7,226\n",
      "20  2018-09-30   $6,824\n",
      "21  2018-06-30   $4,002\n",
      "22  2018-03-31   $3,409\n",
      "23  2017-12-31   $3,288\n",
      "24  2017-09-30   $2,985\n",
      "25  2017-06-30   $2,790\n",
      "26  2017-03-31   $2,696\n",
      "27  2016-12-31   $2,285\n",
      "28  2016-09-30   $2,298\n",
      "29  2016-06-30   $1,270\n",
      "30  2016-03-31   $1,147\n",
      "31  2015-12-31   $1,214\n",
      "32  2015-09-30     $937\n",
      "33  2015-06-30     $955\n",
      "34  2015-03-31     $940\n",
      "35  2014-12-31     $957\n",
      "36  2014-09-30     $852\n",
      "37  2014-06-30     $769\n",
      "38  2014-03-31     $621\n",
      "39  2013-12-31     $615\n",
      "40  2013-09-30     $431\n",
      "41  2013-06-30     $405\n",
      "42  2013-03-31     $562\n",
      "43  2012-12-31     $306\n",
      "44  2012-09-30      $50\n",
      "45  2012-06-30      $27\n",
      "46  2012-03-31      $30\n",
      "47  2011-12-31      $39\n",
      "48  2011-09-30      $58\n",
      "49  2011-06-30      $58\n",
      "50  2011-03-31      $49\n",
      "51  2010-12-31      $36\n",
      "52  2010-09-30      $31\n",
      "53  2010-06-30      $28\n",
      "54  2010-03-31      $21\n",
      "55  2009-12-31         \n",
      "56  2009-09-30      $46\n",
      "57  2009-06-30      $27\n"
     ]
    }
   ],
   "source": [
    "# Create a DataFrame\n",
    "df = pd.DataFrame(quarterly_revenue_data)\n",
    "\n",
    "# Display the DataFrame\n",
    "print(df)\n",
    "\n",
    "# If you want to save this DataFrame to a CSV file\n",
    "df.to_csv('quarterly_revenue_data.csv', index=False)\n"
   ]
  },
  {
   "cell_type": "code",
   "execution_count": 14,
   "metadata": {},
   "outputs": [
    {
     "name": "stdout",
     "output_type": "stream",
     "text": [
      "0     23350\n",
      "1     24927\n",
      "2     23329\n",
      "3     24318\n",
      "4     21454\n",
      "5     16934\n",
      "6     18756\n",
      "7     17719\n",
      "8     13757\n",
      "9     11958\n",
      "10    10389\n",
      "11    10744\n",
      "12     8771\n",
      "13     6036\n",
      "14     5985\n",
      "15     7384\n",
      "16     6303\n",
      "17     6350\n",
      "18     4541\n",
      "19     7226\n",
      "20     6824\n",
      "21     4002\n",
      "22     3409\n",
      "23     3288\n",
      "24     2985\n",
      "25     2790\n",
      "26     2696\n",
      "27     2285\n",
      "28     2298\n",
      "29     1270\n",
      "30     1147\n",
      "31     1214\n",
      "32      937\n",
      "33      955\n",
      "34      940\n",
      "35      957\n",
      "36      852\n",
      "37      769\n",
      "38      621\n",
      "39      615\n",
      "40      431\n",
      "41      405\n",
      "42      562\n",
      "43      306\n",
      "44       50\n",
      "45       27\n",
      "46       30\n",
      "47       39\n",
      "48       58\n",
      "49       58\n",
      "50       49\n",
      "51       36\n",
      "52       31\n",
      "53       28\n",
      "54       21\n",
      "55         \n",
      "56       46\n",
      "57       27\n",
      "Name: revenue, dtype: object\n"
     ]
    },
    {
     "name": "stderr",
     "output_type": "stream",
     "text": [
      "/tmp/ipykernel_534/2729473210.py:1: FutureWarning: The default value of regex will change from True to False in a future version. In addition, single character regular expressions will *not* be treated as literal strings when regex=True.\n",
      "  df['revenue'] = df['revenue'].str.replace('$', '').str.replace(',', '')\n"
     ]
    }
   ],
   "source": [
    "df['revenue'] = df['revenue'].str.replace('$', '').str.replace(',', '')\n",
    "print(df['revenue'])"
   ]
  },
  {
   "cell_type": "code",
   "execution_count": 15,
   "metadata": {},
   "outputs": [],
   "source": [
    "import sqlite3\n",
    "\n",
    "conn = sqlite3.connect('my_database.db')"
   ]
  },
  {
   "cell_type": "code",
   "execution_count": 19,
   "metadata": {},
   "outputs": [
    {
     "ename": "OperationalError",
     "evalue": "near \")\": syntax error",
     "output_type": "error",
     "traceback": [
      "\u001b[0;31m---------------------------------------------------------------------------\u001b[0m",
      "\u001b[0;31mOperationalError\u001b[0m                          Traceback (most recent call last)",
      "Cell \u001b[0;32mIn[19], line 14\u001b[0m\n\u001b[1;32m      7\u001b[0m \u001b[38;5;66;03m# Create table with the same structure as your DataFrame\u001b[39;00m\n\u001b[1;32m      8\u001b[0m create_table_query \u001b[38;5;241m=\u001b[39m \u001b[38;5;124m\"\"\"\u001b[39m\n\u001b[1;32m      9\u001b[0m \u001b[38;5;124mCREATE TABLE tesla_revenue (\u001b[39m\n\u001b[1;32m     10\u001b[0m \u001b[38;5;124m    Column1 INTEGER,\u001b[39m\n\u001b[1;32m     11\u001b[0m \u001b[38;5;124m    Column2 INTEGER,\u001b[39m\n\u001b[1;32m     12\u001b[0m \u001b[38;5;124m);\u001b[39m\n\u001b[1;32m     13\u001b[0m \u001b[38;5;124m\"\"\"\u001b[39m\n\u001b[0;32m---> 14\u001b[0m \u001b[43mcursor\u001b[49m\u001b[38;5;241;43m.\u001b[39;49m\u001b[43mexecute\u001b[49m\u001b[43m(\u001b[49m\u001b[43mcreate_table_query\u001b[49m\u001b[43m)\u001b[49m\n",
      "\u001b[0;31mOperationalError\u001b[0m: near \")\": syntax error"
     ]
    }
   ],
   "source": [
    "# Create a cursor object using the cursor() method\n",
    "cursor = conn.cursor()\n",
    "\n",
    "# Drop the table if it already exists\n",
    "cursor.execute(\"DROP TABLE IF EXISTS tesla_revenue\")\n",
    "\n",
    "# Create table with the same structure as your DataFrame\n",
    "create_table_query = \"\"\"\n",
    "CREATE TABLE tesla_revenue (\n",
    "    Column1 INTEGER,\n",
    "    Column2 INTEGER,\n",
    ");\n",
    "\"\"\"\n",
    "cursor.execute(create_table_query)"
   ]
  }
 ],
 "metadata": {
  "kernelspec": {
   "display_name": "Python 3",
   "language": "python",
   "name": "python3"
  },
  "language_info": {
   "codemirror_mode": {
    "name": "ipython",
    "version": 3
   },
   "file_extension": ".py",
   "mimetype": "text/x-python",
   "name": "python",
   "nbconvert_exporter": "python",
   "pygments_lexer": "ipython3",
   "version": "3.11.4"
  }
 },
 "nbformat": 4,
 "nbformat_minor": 2
}
