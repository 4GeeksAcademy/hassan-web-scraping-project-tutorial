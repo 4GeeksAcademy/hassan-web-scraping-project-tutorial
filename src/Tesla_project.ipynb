{
 "cells": [
  {
   "cell_type": "code",
   "execution_count": 47,
   "metadata": {},
   "outputs": [],
   "source": [
    "import requests\n",
    "import time\n",
    "from bs4 import BeautifulSoup\n",
    "\n",
    "# URL of the page to scrape\n",
    "url = \"https://api.scrapingdog.com/scrape?api_key=657d045fa8510675fba81d9e&url=https://www.macrotrends.net/stocks/charts/TSLA/tesla/revenue&dynamic=false\"\n"
   ]
  },
  {
   "cell_type": "code",
   "execution_count": 48,
   "metadata": {},
   "outputs": [
    {
     "name": "stdout",
     "output_type": "stream",
     "text": [
      "200\n"
     ]
    }
   ],
   "source": [
    "# Sending a request to the website\n",
    "response = requests.get(url)\n",
    "print(response.status_code)"
   ]
  },
  {
   "cell_type": "code",
   "execution_count": 62,
   "metadata": {},
   "outputs": [],
   "source": [
    "# Parse the HTML snippet\n",
    "soup = BeautifulSoup(response.text, 'html.parser')"
   ]
  },
  {
   "cell_type": "code",
   "execution_count": 64,
   "metadata": {},
   "outputs": [
    {
     "name": "stdout",
     "output_type": "stream",
     "text": [
      "Date: 2023-09-30, Revenue: $23,350\n",
      "Date: 2023-06-30, Revenue: $24,927\n",
      "Date: 2023-03-31, Revenue: $23,329\n",
      "Date: 2022-12-31, Revenue: $24,318\n",
      "Date: 2022-09-30, Revenue: $21,454\n",
      "Date: 2022-06-30, Revenue: $16,934\n",
      "Date: 2022-03-31, Revenue: $18,756\n",
      "Date: 2021-12-31, Revenue: $17,719\n",
      "Date: 2021-09-30, Revenue: $13,757\n",
      "Date: 2021-06-30, Revenue: $11,958\n",
      "Date: 2021-03-31, Revenue: $10,389\n",
      "Date: 2020-12-31, Revenue: $10,744\n",
      "Date: 2020-09-30, Revenue: $8,771\n",
      "Date: 2020-06-30, Revenue: $6,036\n",
      "Date: 2020-03-31, Revenue: $5,985\n",
      "Date: 2019-12-31, Revenue: $7,384\n",
      "Date: 2019-09-30, Revenue: $6,303\n",
      "Date: 2019-06-30, Revenue: $6,350\n",
      "Date: 2019-03-31, Revenue: $4,541\n",
      "Date: 2018-12-31, Revenue: $7,226\n",
      "Date: 2018-09-30, Revenue: $6,824\n",
      "Date: 2018-06-30, Revenue: $4,002\n",
      "Date: 2018-03-31, Revenue: $3,409\n",
      "Date: 2017-12-31, Revenue: $3,288\n",
      "Date: 2017-09-30, Revenue: $2,985\n",
      "Date: 2017-06-30, Revenue: $2,790\n",
      "Date: 2017-03-31, Revenue: $2,696\n",
      "Date: 2016-12-31, Revenue: $2,285\n",
      "Date: 2016-09-30, Revenue: $2,298\n",
      "Date: 2016-06-30, Revenue: $1,270\n",
      "Date: 2016-03-31, Revenue: $1,147\n",
      "Date: 2015-12-31, Revenue: $1,214\n",
      "Date: 2015-09-30, Revenue: $937\n",
      "Date: 2015-06-30, Revenue: $955\n",
      "Date: 2015-03-31, Revenue: $940\n",
      "Date: 2014-12-31, Revenue: $957\n",
      "Date: 2014-09-30, Revenue: $852\n",
      "Date: 2014-06-30, Revenue: $769\n",
      "Date: 2014-03-31, Revenue: $621\n",
      "Date: 2013-12-31, Revenue: $615\n",
      "Date: 2013-09-30, Revenue: $431\n",
      "Date: 2013-06-30, Revenue: $405\n",
      "Date: 2013-03-31, Revenue: $562\n",
      "Date: 2012-12-31, Revenue: $306\n",
      "Date: 2012-09-30, Revenue: $50\n",
      "Date: 2012-06-30, Revenue: $27\n",
      "Date: 2012-03-31, Revenue: $30\n",
      "Date: 2011-12-31, Revenue: $39\n",
      "Date: 2011-09-30, Revenue: $58\n",
      "Date: 2011-06-30, Revenue: $58\n",
      "Date: 2011-03-31, Revenue: $49\n",
      "Date: 2010-12-31, Revenue: $36\n",
      "Date: 2010-09-30, Revenue: $31\n",
      "Date: 2010-06-30, Revenue: $28\n",
      "Date: 2010-03-31, Revenue: $21\n",
      "Date: 2009-12-31, Revenue: \n",
      "Date: 2009-09-30, Revenue: $46\n",
      "Date: 2009-06-30, Revenue: $27\n"
     ]
    }
   ],
   "source": [
    "tables = soup.find_all('table', class_='historical_data_table')\n",
    "quarterly_revenue_table = None\n",
    "for table in tables:\n",
    "    if \"Quarterly Revenue\" in table.text:\n",
    "        quarterly_revenue_table = table\n",
    "        break\n",
    "\n",
    "# Check if the table was found\n",
    "if not quarterly_revenue_table:\n",
    "    print(\"Quarterly Revenue table not found\")\n",
    "else:\n",
    "    # Initialize a list to store the quarterly revenue data\n",
    "    quarterly_revenue_data = []\n",
    "\n",
    "    # Iterate over each row in the table body\n",
    "    for row in quarterly_revenue_table.tbody.find_all('tr'):\n",
    "        # Extract the date and revenue from each cell\n",
    "        date_td, revenue_td = row.find_all('td')\n",
    "        date = date_td.text.strip()\n",
    "        revenue = revenue_td.text.strip()\n",
    "\n",
    "        # Append the extracted data to the list\n",
    "        quarterly_revenue_data.append({'date': date, 'revenue': revenue})\n",
    "\n",
    "    # Display the extracted data\n",
    "    for data in quarterly_revenue_data:\n",
    "        print(f\"Date: {data['date']}, Revenue: {data['revenue']}\")"
   ]
  }
 ],
 "metadata": {
  "kernelspec": {
   "display_name": "Python 3",
   "language": "python",
   "name": "python3"
  },
  "language_info": {
   "codemirror_mode": {
    "name": "ipython",
    "version": 3
   },
   "file_extension": ".py",
   "mimetype": "text/x-python",
   "name": "python",
   "nbconvert_exporter": "python",
   "pygments_lexer": "ipython3",
   "version": "3.11.4"
  }
 },
 "nbformat": 4,
 "nbformat_minor": 2
}
